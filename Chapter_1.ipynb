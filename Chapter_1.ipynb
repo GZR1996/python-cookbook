{
 "cells": [
  {
   "cell_type": "code",
   "execution_count": 1,
   "metadata": {},
   "outputs": [
    {
     "name": "stdout",
     "output_type": "stream",
     "text": [
      "ACME 50 91.1 (2012, 12, 21)\n",
      "(2012, 12, 21) 50\n",
      "H e l l o\n"
     ]
    }
   ],
   "source": [
    "# 1.1 解压序列赋值给多个变量\n",
    "data = [ 'ACME', 50, 91.1, (2012, 12, 21) ]\n",
    "name, shares, price, (year, mon, day) = data\n",
    "print(name, shares, price, (year, mon, day))\n",
    "_, shares, _, _ = data\n",
    "print(_, shares)\n",
    "\n",
    "s = 'Hello'\n",
    "a, b, c, d, e = s\n",
    "print(a, b, c, d, e)"
   ]
  },
  {
   "cell_type": "code",
   "execution_count": 2,
   "metadata": {},
   "outputs": [
    {
     "name": "stdout",
     "output_type": "stream",
     "text": [
      "Dave dave@example.com\n",
      "['773-555-1212', '847-555-1212']\n",
      "<class 'list'>\n",
      "[10, 8, 7, 1, 9, 5, 10]\n",
      "3\n",
      "foo 0 (1, 2)\n",
      "bar hello\n",
      "foo 3 (4,)\n",
      "nobody\n",
      "['*', '-2', '-2', 'Unprivileged User']\n",
      "/var/empty\n",
      "/usr/bin/false\n"
     ]
    }
   ],
   "source": [
    "# 1.2 解压可迭代对象赋值给多个变量\n",
    "record = ('Dave', 'dave@example.com', '773-555-1212', '847-555-1212')\n",
    "name, email, *phone_numbers = record\n",
    "print(name, email)\n",
    "print(phone_numbers)\n",
    "print(type(phone_numbers))\n",
    "\n",
    "*trailing, current = [10, 8, 7, 1, 9, 5, 10, 3]\n",
    "print(trailing)\n",
    "print(current)\n",
    "\n",
    "records = [(\"foo\", 0, 1, 2), (\"bar\", \"hello\"), (\"foo\", 3, 4)]\n",
    "def do_foo(x, *y):\n",
    "    print('foo', x, y)\n",
    "def do_bar(s):\n",
    "    print('bar', s)\n",
    "for tag, *args in records:\n",
    "    if tag == 'foo':\n",
    "        do_foo(*args)\n",
    "    elif tag == 'bar':\n",
    "        do_bar(*args)\n",
    "\n",
    "line = 'nobody:*:-2:-2:Unprivileged User:/var/empty:/usr/bin/false'\n",
    "uname, *fields, homedir, _ = line.split(':')\n",
    "print(uname)\n",
    "print(fields)\n",
    "print(homedir)\n",
    "print(_)"
   ]
  },
  {
   "cell_type": "code",
   "execution_count": 3,
   "metadata": {},
   "outputs": [
    {
     "name": "stdout",
     "output_type": "stream",
     "text": [
      "deque([1, 2, 3], maxlen=3)\n",
      "deque([2, 3, 4], maxlen=3)\n",
      "deque([5, 2, 3], maxlen=3)\n",
      "deque([5, 2], maxlen=3)\n",
      "deque([2], maxlen=3)\n"
     ]
    }
   ],
   "source": [
    "# 1.3 保留最后 N 个元素\n",
    "from collections import deque\n",
    "\n",
    "q = deque(maxlen=3)\n",
    "q.append(1)\n",
    "q.append(2)\n",
    "q.append(3)\n",
    "print(q)\n",
    "q.append(4)\n",
    "print(q)\n",
    "q.appendleft(5)\n",
    "print(q)\n",
    "q.pop()\n",
    "print(q)\n",
    "q.popleft()\n",
    "print(q)"
   ]
  },
  {
   "cell_type": "code",
   "execution_count": 4,
   "metadata": {},
   "outputs": [
    {
     "name": "stdout",
     "output_type": "stream",
     "text": [
      "[42, 37, 23]\n",
      "[-4, 1, 2]\n",
      "[{'name': 'YHOO', 'shares': 45, 'price': 16.35}, {'name': 'FB', 'shares': 200, 'price': 21.09}, {'name': 'HPQ', 'shares': 35, 'price': 31.75}]\n",
      "[{'name': 'AAPL', 'shares': 50, 'price': 543.22}, {'name': 'ACME', 'shares': 75, 'price': 115.65}, {'name': 'IBM', 'shares': 100, 'price': 91.1}]\n",
      "[-4, 2, 1, 23, 7, 2, 18, 23, 42, 37, 8]\n",
      "-4\n",
      "1\n",
      "2\n"
     ]
    }
   ],
   "source": [
    "# 1.4 查找最大或最小的 N 个元素\n",
    "import heapq\n",
    "nums = [1, 8, 2, 23, 7, -4, 18, 23, 42, 37, 2]\n",
    "print(heapq.nlargest(3, nums))\n",
    "print(heapq.nsmallest(3, nums))\n",
    "\n",
    "portfolio = [\n",
    "    {'name': 'IBM', 'shares': 100, 'price': 91.1},\n",
    "    {'name': 'AAPL', 'shares': 50, 'price': 543.22},\n",
    "    {'name': 'FB', 'shares': 200, 'price': 21.09},\n",
    "    {'name': 'HPQ', 'shares': 35, 'price': 31.75},\n",
    "    {'name': 'YHOO', 'shares': 45, 'price': 16.35},\n",
    "    {'name': 'ACME', 'shares': 75, 'price': 115.65}\n",
    "]\n",
    "cheap = heapq.nsmallest(3, portfolio, key=lambda s: s['price'])\n",
    "expensive = heapq.nlargest(3, portfolio, key=lambda s: s['price'])\n",
    "print(cheap)\n",
    "print(expensive)\n",
    "\n",
    "heap = list(nums)\n",
    "heapq.heapify(heap)\n",
    "print(heap)\n",
    "print(heapq.heappop(heap))\n",
    "print(heapq.heappop(heap))\n",
    "print(heapq.heappop(heap))"
   ]
  },
  {
   "cell_type": "code",
   "execution_count": 5,
   "metadata": {},
   "outputs": [
    {
     "name": "stdout",
     "output_type": "stream",
     "text": [
      "Item('foo')\n"
     ]
    },
    {
     "data": {
      "text/plain": [
       "<function print>"
      ]
     },
     "execution_count": 5,
     "metadata": {},
     "output_type": "execute_result"
    }
   ],
   "source": [
    "# 1.5 实现一个优先级队列\n",
    "import heapq\n",
    "\n",
    "class PriorityQueue:\n",
    "    def __init__(self):\n",
    "        self._queue = []\n",
    "        self._index = 0\n",
    "    \n",
    "    def push(self, item, priority):\n",
    "        heapq.heappush(self._queue, (priority, self._index, item))\n",
    "        self._index += 1\n",
    "    \n",
    "    def pop(self):\n",
    "        return heapq.heappop(self._queue)[-1]\n",
    "    \n",
    "class Item:\n",
    "    def __init__(self, name):\n",
    "        self.name = name\n",
    "    \n",
    "    def __repr__(self):\n",
    "        return \"Item({!r})\".format(self.name)\n",
    "\n",
    "q = PriorityQueue()\n",
    "q.push(Item('foo'), 1)\n",
    "q.push(Item('bar'), 5)\n",
    "q.push(Item('spam'), 4)\n",
    "q.push(Item('grok'), 1)\n",
    "print(q.pop())\n",
    "print"
   ]
  },
  {
   "cell_type": "code",
   "execution_count": 6,
   "metadata": {},
   "outputs": [
    {
     "name": "stdout",
     "output_type": "stream",
     "text": [
      "defaultdict(<class 'list'>, {'a': [1, 2], 'b': [4]})\n",
      "defaultdict(<class 'set'>, {'a': {1, 2}, 'b': {4}})\n",
      "defaultdict(<class 'list'>, {'a': [1, 2], 'b': [3]})\n"
     ]
    }
   ],
   "source": [
    "# 1.6 字典中的键映射多个值\n",
    "from collections import defaultdict\n",
    "\n",
    "d = defaultdict(list)\n",
    "d['a'].append(1)\n",
    "d['a'].append(2)\n",
    "d['b'].append(4)\n",
    "print(d)\n",
    "\n",
    "d = defaultdict(set)\n",
    "d['a'].add(1)\n",
    "d['a'].add(2)\n",
    "d['b'].add(4)\n",
    "print(d)\n",
    "\n",
    "d = {}\n",
    "d.setdefault('a', []).append(1)\n",
    "d.setdefault('b', []).append(2)\n",
    "d.setdefault('b', []).append(3)\n",
    "\n",
    "pairs = [('a', 1), ('a', 2), ('b', 3)]\n",
    "d = defaultdict(list)\n",
    "for key, value in pairs:\n",
    "    d[key].append(value)\n",
    "print(d)"
   ]
  },
  {
   "cell_type": "code",
   "execution_count": 7,
   "metadata": {},
   "outputs": [
    {
     "name": "stdout",
     "output_type": "stream",
     "text": [
      "foo 1\n",
      "bar 2\n",
      "spam 3\n",
      "grok 4\n",
      "{\"foo\": 1, \"bar\": 2, \"spam\": 3, \"grok\": 4}\n"
     ]
    }
   ],
   "source": [
    "# 1.7 字典排序\n",
    "from collections import OrderedDict\n",
    "\n",
    "d = OrderedDict()\n",
    "d['foo'] = 1\n",
    "d['bar'] = 2\n",
    "d['spam'] = 3\n",
    "d['grok'] = 4\n",
    "for key in d:\n",
    "    print(key, d[key])\n",
    "    \n",
    "import json\n",
    "d = json.dumps(d)\n",
    "print(d)"
   ]
  },
  {
   "cell_type": "code",
   "execution_count": 8,
   "metadata": {},
   "outputs": [
    {
     "name": "stdout",
     "output_type": "stream",
     "text": [
      "(10.75, 'FB')\n",
      "(612.78, 'AAPL')\n",
      "AAPL\n",
      "FB\n",
      "10.75\n"
     ]
    }
   ],
   "source": [
    "# 1.8 字典的运算\n",
    "prices = {\n",
    "    'ACME': 45.23,\n",
    "    'AAPL': 612.78,\n",
    "    'IBM': 205.55,\n",
    "    'HPQ': 37.20,\n",
    "    'FB': 10.75\n",
    "}\n",
    "\n",
    "min_prices = min(zip(prices.values(), prices.keys()))\n",
    "max_prices = max(zip(prices.values(), prices.keys()))\n",
    "print(min_prices)\n",
    "print(max_prices)\n",
    "\n",
    "print(min(prices))\n",
    "print(min(prices, key=lambda k: prices[k]))\n",
    "min_value = prices[min(prices, key=lambda k: prices[k])]\n",
    "print(min_value)"
   ]
  },
  {
   "cell_type": "code",
   "execution_count": 9,
   "metadata": {
    "scrolled": true
   },
   "outputs": [
    {
     "name": "stdout",
     "output_type": "stream",
     "text": [
      "{'y', 'x'}\n",
      "{'z'}\n",
      "{('y', 2)}\n",
      "{('z', 3), ('x', 1)}\n"
     ]
    }
   ],
   "source": [
    "# 1.9 查找两字典的相同点\n",
    "a = {\n",
    "    'x' : 1,\n",
    "    'y' : 2,\n",
    "    'z' : 3\n",
    "}\n",
    "b = {\n",
    "    'w' : 10,\n",
    "    'x' : 11,\n",
    "    'y' : 2\n",
    "}\n",
    "\n",
    "print(a.keys() & b.keys())\n",
    "print(a.keys() - b.keys())\n",
    "print(a.items() & b.items())\n",
    "print(a.items() - b.items())"
   ]
  },
  {
   "cell_type": "code",
   "execution_count": 10,
   "metadata": {},
   "outputs": [
    {
     "name": "stdout",
     "output_type": "stream",
     "text": [
      "[1, 5, 2, 9, 10]\n",
      "[{'x': 1, 'y': 2}, {'x': 1, 'y': 3}, {'x': 2, 'y': 4}]\n"
     ]
    }
   ],
   "source": [
    "# 1.10 删除序列相同元素并保持顺序\n",
    "def dedupe(items):\n",
    "    seen = set()\n",
    "    for item in items:\n",
    "        if item not in seen:\n",
    "            yield item\n",
    "            seen.add(item)\n",
    "a = [1, 5, 2, 1, 9, 1, 5, 10]\n",
    "print(list(dedupe(a)))\n",
    "\n",
    "def dedupe(items, key=None):\n",
    "    seen = set()\n",
    "    for item in items:\n",
    "        val = item if key is None else key(item)\n",
    "        if val not in seen:\n",
    "            yield item\n",
    "            seen.add(val)\n",
    "a = [ {'x':1, 'y':2}, {'x':1, 'y':3}, {'x':1, 'y':2}, {'x':2, 'y':4}]\n",
    "print(list(dedupe(a, key=lambda d: (d['x'],d['y']))))"
   ]
  },
  {
   "cell_type": "code",
   "execution_count": 17,
   "metadata": {},
   "outputs": [
    {
     "name": "stdout",
     "output_type": "stream",
     "text": [
      "51325.0\n",
      "5 50 2\n",
      "W\n",
      "r\n",
      "d\n"
     ]
    }
   ],
   "source": [
    "# 1.11 命名切片\n",
    "record = '....................100 .......513.25 ..........'\n",
    "SHARES = slice(20, 23)\n",
    "PRICE = slice(31, 37)\n",
    "cost = int(record[SHARES]) * float(record[PRICE])\n",
    "print(cost)\n",
    "\n",
    "a = slice(5, 50, 2)\n",
    "print(a.start, a.stop, a.step)\n",
    "\n",
    "s = 'HelloWorld'\n",
    "a.indices(len(s))\n",
    "for i in range(*a.indices(len(s))):\n",
    "    print(s[i])"
   ]
  },
  {
   "cell_type": "code",
   "execution_count": 26,
   "metadata": {},
   "outputs": [
    {
     "name": "stdout",
     "output_type": "stream",
     "text": [
      "[('eyes', 8), ('the', 5), ('look', 4)]\n",
      "8\n",
      "5\n",
      "[('eyes', 9), ('the', 5), ('look', 4)]\n",
      "Counter({'eyes': 8, 'the': 5, 'look': 4, 'into': 3, 'my': 3, 'around': 2, 'not': 1, \"don't\": 1, \"you're\": 1, 'under': 1})\n",
      "Counter({'why': 1, 'are': 1, 'you': 1, 'not': 1, 'looking': 1, 'in': 1, 'my': 1, 'eyes': 1})\n",
      "Counter({'eyes': 9, 'the': 5, 'look': 4, 'my': 4, 'into': 3, 'not': 2, 'around': 2, \"don't\": 1, \"you're\": 1, 'under': 1, 'why': 1, 'are': 1, 'you': 1, 'looking': 1, 'in': 1})\n",
      "Counter({'eyes': 7, 'the': 5, 'look': 4, 'into': 3, 'my': 2, 'around': 2, \"don't\": 1, \"you're\": 1, 'under': 1})\n"
     ]
    }
   ],
   "source": [
    "# 1.12 序列中出现次数最多的元素\n",
    "from collections import Counter\n",
    "\n",
    "words = [\n",
    "    'look', 'into', 'my', 'eyes', 'look', 'into', 'my', 'eyes',\n",
    "    'the', 'eyes', 'the', 'eyes', 'the', 'eyes', 'not', 'around', 'the',\n",
    "    'eyes', \"don't\", 'look', 'around', 'the', 'eyes', 'look', 'into',\n",
    "    'my', 'eyes', \"you're\", 'under'\n",
    "]\n",
    "word_counts = Counter(words)\n",
    "top_three = word_counts.most_common(3)\n",
    "print(top_three)\n",
    "print(word_counts['eyes'])\n",
    "print(word_counts['the'])\n",
    "\n",
    "morewords = ['why','are','you','not','looking','in','my','eyes']\n",
    "word_counts.update(morewords)\n",
    "top_three = word_counts.most_common(3)\n",
    "print(top_three)\n",
    "\n",
    "a = Counter(words)\n",
    "b = Counter(morewords)\n",
    "c = a + b\n",
    "d = a - b\n",
    "print(a)\n",
    "print(b)\n",
    "print(c)\n",
    "print(d)"
   ]
  },
  {
   "cell_type": "code",
   "execution_count": 33,
   "metadata": {},
   "outputs": [
    {
     "name": "stdout",
     "output_type": "stream",
     "text": [
      "[{'fname': 'Big', 'lname': 'Jones', 'uid': 1004}, {'fname': 'Brian', 'lname': 'Jones', 'uid': 1003}, {'fname': 'David', 'lname': 'Beazley', 'uid': 1002}, {'fname': 'John', 'lname': 'Cleese', 'uid': 1001}]\n",
      "[{'fname': 'John', 'lname': 'Cleese', 'uid': 1001}, {'fname': 'David', 'lname': 'Beazley', 'uid': 1002}, {'fname': 'Brian', 'lname': 'Jones', 'uid': 1003}, {'fname': 'Big', 'lname': 'Jones', 'uid': 1004}]\n",
      "[{'fname': 'Big', 'lname': 'Jones', 'uid': 1004}, {'fname': 'Brian', 'lname': 'Jones', 'uid': 1003}, {'fname': 'David', 'lname': 'Beazley', 'uid': 1002}, {'fname': 'John', 'lname': 'Cleese', 'uid': 1001}]\n",
      "[{'fname': 'David', 'lname': 'Beazley', 'uid': 1002}, {'fname': 'John', 'lname': 'Cleese', 'uid': 1001}, {'fname': 'Big', 'lname': 'Jones', 'uid': 1004}, {'fname': 'Brian', 'lname': 'Jones', 'uid': 1003}]\n",
      "[{'fname': 'David', 'lname': 'Beazley', 'uid': 1002}, {'fname': 'John', 'lname': 'Cleese', 'uid': 1001}, {'fname': 'Big', 'lname': 'Jones', 'uid': 1004}, {'fname': 'Brian', 'lname': 'Jones', 'uid': 1003}]\n",
      "{'fname': 'John', 'lname': 'Cleese', 'uid': 1001}\n",
      "{'fname': 'Big', 'lname': 'Jones', 'uid': 1004}\n"
     ]
    }
   ],
   "source": [
    "# 1.13 通过某个关键字排序一个字典列表\n",
    "from operator import itemgetter\n",
    "\n",
    "rows = [\n",
    "    {'fname': 'Brian', 'lname': 'Jones', 'uid': 1003},\n",
    "    {'fname': 'David', 'lname': 'Beazley', 'uid': 1002},\n",
    "    {'fname': 'John', 'lname': 'Cleese', 'uid': 1001},\n",
    "    {'fname': 'Big', 'lname': 'Jones', 'uid': 1004}\n",
    "]\n",
    "\n",
    "rows_by_fname = sorted(rows, key=itemgetter('fname'))\n",
    "rows_by_uid = sorted(rows, key=itemgetter('uid'))\n",
    "print(rows_by_fname)\n",
    "print(rows_by_uid)\n",
    "\n",
    "rows_by_fname = sorted(rows, key=lambda k: k['fname'])\n",
    "print(rows_by_fname)\n",
    "\n",
    "rows_by_fname = sorted(rows, key=itemgetter('lname', 'fname'))\n",
    "print(rows_by_fname)\n",
    "\n",
    "rows_by_fname = sorted(rows, key=lambda k: (k['lname'], k['fname']))\n",
    "print(rows_by_fname)\n",
    "\n",
    "min_uid = min(rows, key=itemgetter('uid'))\n",
    "max_uid = max(rows, key=itemgetter('uid'))\n",
    "print(min_uid)\n",
    "print(max_uid)"
   ]
  },
  {
   "cell_type": "code",
   "execution_count": 36,
   "metadata": {},
   "outputs": [
    {
     "name": "stdout",
     "output_type": "stream",
     "text": [
      "[User(23), User(3), User(99)]\n",
      "[User(3), User(23), User(99)]\n",
      "[User(3), User(23), User(99)]\n"
     ]
    }
   ],
   "source": [
    "# 1.14 排序不支持原生比较的对象\n",
    "class User:\n",
    "    def __init__(self, user_id):\n",
    "        self.user_id = user_id\n",
    "    \n",
    "    def __repr__(self):\n",
    "        return \"User({})\".format(self.user_id)\n",
    "\n",
    "users = [User(23), User(3), User(99)]\n",
    "print(users)\n",
    "print(sorted(users, key=lambda u: u.user_id))\n",
    "\n",
    "from operator import attrgetter\n",
    "\n",
    "by_id = sorted(users, key=attrgetter('user_id'))\n",
    "print(by_id)"
   ]
  },
  {
   "cell_type": "code",
   "execution_count": 42,
   "metadata": {},
   "outputs": [
    {
     "name": "stdout",
     "output_type": "stream",
     "text": [
      "07/01/2012\n",
      "  {'address': '5412 N CLARK', 'date': '07/01/2012'}\n",
      "  {'address': '4801 N BROADWAY', 'date': '07/01/2012'}\n",
      "07/02/2012\n",
      "  {'address': '5800 E 58TH', 'date': '07/02/2012'}\n",
      "  {'address': '5645 N RAVENSWOOD', 'date': '07/02/2012'}\n",
      "  {'address': '1060 W ADDISON', 'date': '07/02/2012'}\n",
      "07/03/2012\n",
      "  {'address': '2122 N CLARK', 'date': '07/03/2012'}\n",
      "07/04/2012\n",
      "  {'address': '5148 N CLARK', 'date': '07/04/2012'}\n",
      "  {'address': '1039 W GRANVILLE', 'date': '07/04/2012'}\n",
      "{'address': '5412 N CLARK', 'date': '07/01/2012'}\n",
      "{'address': '4801 N BROADWAY', 'date': '07/01/2012'}\n"
     ]
    }
   ],
   "source": [
    "# 1.15 通过某个字段将记录分组\n",
    "from operator import itemgetter\n",
    "from itertools import groupby\n",
    "\n",
    "rows = [\n",
    "    {'address': '5412 N CLARK', 'date': '07/01/2012'},\n",
    "    {'address': '5148 N CLARK', 'date': '07/04/2012'},\n",
    "    {'address': '5800 E 58TH', 'date': '07/02/2012'},\n",
    "    {'address': '2122 N CLARK', 'date': '07/03/2012'},\n",
    "    {'address': '5645 N RAVENSWOOD', 'date': '07/02/2012'},\n",
    "    {'address': '1060 W ADDISON', 'date': '07/02/2012'},\n",
    "    {'address': '4801 N BROADWAY', 'date': '07/01/2012'},\n",
    "    {'address': '1039 W GRANVILLE', 'date': '07/04/2012'},\n",
    "]\n",
    "\n",
    "rows.sort(key=itemgetter(\"date\"))\n",
    "for date, items in groupby(rows, key=itemgetter(\"date\")):\n",
    "    print(date)\n",
    "    for i in items:\n",
    "        print(' ', i)\n",
    "\n",
    "from collections import defaultdict\n",
    "\n",
    "rows_by_date = defaultdict(list)\n",
    "for row in rows:\n",
    "    rows_by_date[row['date']].append(row)\n",
    "for r in rows_by_date['07/01/2012']:\n",
    "    print(r)"
   ]
  },
  {
   "cell_type": "code",
   "execution_count": 49,
   "metadata": {},
   "outputs": [
    {
     "name": "stdout",
     "output_type": "stream",
     "text": [
      "[1, 4, 10, 2, 3]\n",
      "<generator object <genexpr> at 0x000001D8A4A7E620>\n",
      "1 4 10 2 3 \n",
      "['1', '2', '-3', '4', '5']\n",
      "[1, 4, 0, 10, 0, 2, 3, 0]\n",
      "[False, False, True, False, False, True, True, False]\n",
      "['5800 E 58TH', '1060 W ADDISON', '4801 N BROADWAY']\n"
     ]
    }
   ],
   "source": [
    "# 1.16 过滤序列元素\n",
    "mylist = [1, 4, -5, 10, -7, 2, 3, -1]\n",
    "new_list = [n for n in mylist if n > 0]\n",
    "print(new_list)\n",
    "\n",
    "pos = (n for n in mylist if n > 0)\n",
    "print(pos)\n",
    "for x in pos:\n",
    "    print(x, end=' ')\n",
    "print()\n",
    "\n",
    "values = ['1', '2', '-3', '-', '4', 'N/A', '5']\n",
    "def is_int(val):\n",
    "    try:\n",
    "        x = int(val)\n",
    "        return True\n",
    "    except ValueError:\n",
    "        return False\n",
    "ivals = list(filter(is_int, values))\n",
    "print(ivals)\n",
    "\n",
    "clip_neg = [n if n > 0 else 0 for n in mylist]\n",
    "print(clip_neg)\n",
    "\n",
    "from itertools import compress\n",
    "\n",
    "addresses = [\n",
    "    '5412 N CLARK',\n",
    "    '5148 N CLARK',\n",
    "    '5800 E 58TH',\n",
    "    '2122 N CLARK',\n",
    "    '5645 N RAVENSWOOD',\n",
    "    '1060 W ADDISON',\n",
    "    '4801 N BROADWAY',\n",
    "    '1039 W GRANVILLE',\n",
    "]\n",
    "counts = [ 0, 3, 10, 4, 1, 7, 6, 1]\n",
    "more5 = [n > 5 for n in counts]\n",
    "print(more5)\n",
    "print(list(compress(addresses, more5)))"
   ]
  },
  {
   "cell_type": "code",
   "execution_count": 51,
   "metadata": {},
   "outputs": [
    {
     "name": "stdout",
     "output_type": "stream",
     "text": [
      "{'AAPL': 612.78, 'IBM': 205.55}\n",
      "{'AAPL': 612.78, 'IBM': 205.55, 'HPQ': 37.2}\n",
      "{'AAPL': 612.78, 'HPQ': 37.2, 'IBM': 205.55}\n"
     ]
    },
    {
     "data": {
      "text/plain": [
       "{'AAPL', 'HPQ', 'IBM'}"
      ]
     },
     "execution_count": 51,
     "metadata": {},
     "output_type": "execute_result"
    }
   ],
   "source": [
    "# 1.17 从字典中提取子集\n",
    "prices = {\n",
    "    'ACME': 45.23,\n",
    "    'AAPL': 612.78,\n",
    "    'IBM': 205.55,\n",
    "    'HPQ': 37.20,\n",
    "    'FB': 10.75\n",
    "}\n",
    "p1 = {key: value for key, value in prices.items() if value > 200}\n",
    "tech_names = {'AAPL', 'IBM', 'HPQ', 'MSFT'}\n",
    "p2 = {key: value for key, value in prices.items() if key in tech_names}\n",
    "print(p1)\n",
    "print(p2)"
   ]
  },
  {
   "cell_type": "code",
   "execution_count": 57,
   "metadata": {},
   "outputs": [
    {
     "name": "stdout",
     "output_type": "stream",
     "text": [
      "jonesy@example.com 2012-10-19\n",
      "10.0\n",
      "[Stock(name='stock1', shares=1, price=2), Stock(name='stock2', shares=1, price=2), Stock(name='stock3', shares=1, price=2), Stock(name='stock4', shares=12, price=2), Stock(name='stock5', shares=1, price=2)]\n",
      "Stock(name='ACME', shares=100, price=123.45, date=None, time=None)\n",
      "Stock(name='ACME', shares=100, price=123.45, date='12/17/2012', time=None)\n"
     ]
    }
   ],
   "source": [
    "# 1.18 映射名称到序列元素\n",
    "from collections import namedtuple \n",
    "\n",
    "Subscriber = namedtuple('Subscriber', ['addr', 'joined'])\n",
    "sub = Subscriber('jonesy@example.com', '2012-10-19')\n",
    "print(sub.addr, sub.joined)\n",
    "\n",
    "def compute_cost(records):\n",
    "    total = 0.0\n",
    "    for rec in records:\n",
    "        total += rec[1] * rec[2]\n",
    "    return total\n",
    "\n",
    "Stock = namedtuple(\"Stock\", [\"name\", \"shares\", \"price\"])\n",
    "def compute_cost(records):\n",
    "    total = 0.0\n",
    "    for rec in records:\n",
    "        total += rec.shares * rec.price\n",
    "    return total\n",
    "records = [\n",
    "    Stock('stock1', 1, 2),\n",
    "    Stock('stock2', 1, 2),\n",
    "    Stock('stock3', 1, 2),\n",
    "    Stock('stock4', 1, 2),\n",
    "    Stock('stock5', 1, 2),    \n",
    "]\n",
    "print(compute_cost(records))\n",
    "\n",
    "records[3] = records[3]._replace(shares=12)\n",
    "print(records)\n",
    "\n",
    "Stock = namedtuple('Stock', ['name', 'shares', 'price', 'date', 'time'])\n",
    "stock_prototype = Stock('', 0, 0.0, None, None)\n",
    "def dict_to_stock(s):\n",
    "    return stock_prototype._replace(**s)\n",
    "a = {'name': 'ACME', 'shares': 100, 'price': 123.45}\n",
    "print(dict_to_stock(a))\n",
    "Stock(name='ACME', shares=100, price=123.45, date=None, time=None)\n",
    "b = {'name': 'ACME', 'shares': 100, 'price': 123.45, 'date': '12/17/2012'}\n",
    "print(dict_to_stock(b))"
   ]
  },
  {
   "cell_type": "code",
   "execution_count": 72,
   "metadata": {},
   "outputs": [
    {
     "name": "stdout",
     "output_type": "stream",
     "text": [
      "55\n",
      "There are pdf!\n",
      "ACME,50,123.45\n",
      "20\n"
     ]
    }
   ],
   "source": [
    "# 1.19 转换并同时计算数据\n",
    "nums = [1, 2, 3, 4, 5]\n",
    "s = sum(x * x for x in nums)\n",
    "print(s)\n",
    "\n",
    "import os\n",
    "files = os.listdir('D:\\\\download\\\\')\n",
    "if (any(name.endswith('.pdf') for name in files)):\n",
    "    print(\"There are pdf!\")\n",
    "else:\n",
    "    print(\"No pdf\")\n",
    "\n",
    "s = ('ACME', 50, 123.45)\n",
    "print(','.join(str(x) for x in s))\n",
    "\n",
    "portfolio = [\n",
    "    {'name':'GOOG', 'shares': 50},\n",
    "    {'name':'YHOO', 'shares': 75},\n",
    "    {'name':'AOL', 'shares': 20},\n",
    "    {'name':'SCOX', 'shares': 65}\n",
    "]\n",
    "min_shares = min(s['shares'] for s in portfolio)\n",
    "print(min_shares)"
   ]
  },
  {
   "cell_type": "code",
   "execution_count": 74,
   "metadata": {},
   "outputs": [
    {
     "name": "stdout",
     "output_type": "stream",
     "text": [
      "<class 'collections.ChainMap'> ChainMap({'x': 1, 'z': 3}, {'y': 2, 'z': 4})\n",
      "1\n",
      "2\n",
      "3\n"
     ]
    }
   ],
   "source": [
    "# 1.20 合并多个字典或映射\n",
    "from collections import ChainMap\n",
    "\n",
    "a = {'x': 1, 'z': 3 }\n",
    "b = {'y': 2, 'z': 4 }\n",
    "c = ChainMap(a, b)\n",
    "print(type(c), c)\n",
    "print(c['x']) # Outputs 1 (from a)\n",
    "print(c['y']) # Outputs 2 (from b)\n",
    "print(c['z']) # Outputs 3 (from a)"
   ]
  }
 ],
 "metadata": {
  "kernelspec": {
   "display_name": "Python 3",
   "language": "python",
   "name": "python3"
  },
  "language_info": {
   "codemirror_mode": {
    "name": "ipython",
    "version": 3
   },
   "file_extension": ".py",
   "mimetype": "text/x-python",
   "name": "python",
   "nbconvert_exporter": "python",
   "pygments_lexer": "ipython3",
   "version": "3.6.5"
  }
 },
 "nbformat": 4,
 "nbformat_minor": 2
}
