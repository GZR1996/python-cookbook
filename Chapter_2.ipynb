{
 "cells": [
  {
   "cell_type": "code",
   "execution_count": 7,
   "metadata": {
    "scrolled": true
   },
   "outputs": [
    {
     "name": "stdout",
     "output_type": "stream",
     "text": [
      "['asdf', 'fjdk', 'afed', 'fjek', 'asdf', 'foo']\n",
      "['asdf', ' ', 'fjdk', ';', '', ' ', 'afed', ',', '', ' ', 'fjek', ',', 'asdf', ',', '', ' ', 'foo']\n",
      "['asdf', 'fjdk', '', 'afed', '', 'fjek', 'asdf', '', 'foo']\n",
      "[' ', ';', ' ', ',', ' ', ',', ',', ' ', '']\n",
      "['asdf', 'fjdk', '', 'afed', '', 'fjek', 'asdf', '', 'foo']\n"
     ]
    }
   ],
   "source": [
    "# 2.1 使用多个界定符分割字符串\n",
    "import re\n",
    "\n",
    "line = 'asdf fjdk; afed, fjek,asdf, foo'\n",
    "line_sp = re.split(r'[;,\\s]\\s*', line)\n",
    "print(line_sp)\n",
    "\n",
    "fields = re.split(r'(;|,|\\s)s*', line)\n",
    "print(fields)\n",
    "\n",
    "values = fields[::2]\n",
    "delimiters = fields[1::2] + ['']\n",
    "print(values)\n",
    "print(delimiters)\n",
    "\n",
    "values = re.split(r'(?:;|,|\\s)s*', line)\n",
    "print(values)"
   ]
  },
  {
   "cell_type": "code",
   "execution_count": 15,
   "metadata": {},
   "outputs": [
    {
     "name": "stdout",
     "output_type": "stream",
     "text": [
      "True\n",
      "True\n",
      "False\n",
      "[]\n",
      "False\n"
     ]
    }
   ],
   "source": [
    "# 2.2 字符串开头或结尾匹配\n",
    "filename = 'spam.txt'\n",
    "print(filename.startswith('spam'))\n",
    "print(filename.endswith('txt'))\n",
    "print(filename.endswith('/txt'))\n",
    "\n",
    "import os\n",
    "filenames = os.listdir('C:\\\\Users\\\\zero')\n",
    "filenames_ = [name for name in filenames if name.endswith(('.py', '.pdf'))]\n",
    "print(filenames_)\n",
    "filenames__ = any(name.endswith('.py') for name in filenames)\n",
    "print(filenames__)"
   ]
  },
  {
   "cell_type": "code",
   "execution_count": null,
   "metadata": {},
   "outputs": [],
   "source": []
  }
 ],
 "metadata": {
  "kernelspec": {
   "display_name": "Python 3",
   "language": "python",
   "name": "python3"
  },
  "language_info": {
   "codemirror_mode": {
    "name": "ipython",
    "version": 3
   },
   "file_extension": ".py",
   "mimetype": "text/x-python",
   "name": "python",
   "nbconvert_exporter": "python",
   "pygments_lexer": "ipython3",
   "version": "3.6.5"
  }
 },
 "nbformat": 4,
 "nbformat_minor": 2
}
